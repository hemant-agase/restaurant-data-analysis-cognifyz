{
 "cells": [
  {
   "cell_type": "markdown",
   "metadata": {},
   "source": [
    "# Level 1\n",
    "---"
   ]
  },
  {
   "cell_type": "code",
   "execution_count": 2,
   "metadata": {
    "id": "k78P2nqC16IW"
   },
   "outputs": [],
   "source": [
    "# Import Libraries\n",
    "import pandas as pd\n",
    "import numpy as np\n",
    "import matplotlib.pyplot as plt\n",
    "import seaborn as sns"
   ]
  },
  {
   "cell_type": "code",
   "execution_count": 3,
   "metadata": {
    "colab": {
     "base_uri": "https://localhost:8080/",
     "height": 332
    },
    "id": "f2tYZmIaoItk",
    "outputId": "8cc87bad-6ea7-482c-f512-9b485c68bf42"
   },
   "outputs": [
    {
     "data": {
      "text/html": [
       "<div>\n",
       "<style scoped>\n",
       "    .dataframe tbody tr th:only-of-type {\n",
       "        vertical-align: middle;\n",
       "    }\n",
       "\n",
       "    .dataframe tbody tr th {\n",
       "        vertical-align: top;\n",
       "    }\n",
       "\n",
       "    .dataframe thead th {\n",
       "        text-align: right;\n",
       "    }\n",
       "</style>\n",
       "<table border=\"1\" class=\"dataframe\">\n",
       "  <thead>\n",
       "    <tr style=\"text-align: right;\">\n",
       "      <th></th>\n",
       "      <th>Restaurant ID</th>\n",
       "      <th>Restaurant Name</th>\n",
       "      <th>Country Code</th>\n",
       "      <th>City</th>\n",
       "      <th>Address</th>\n",
       "      <th>Locality</th>\n",
       "      <th>Locality Verbose</th>\n",
       "      <th>Longitude</th>\n",
       "      <th>Latitude</th>\n",
       "      <th>Cuisines</th>\n",
       "      <th>...</th>\n",
       "      <th>Currency</th>\n",
       "      <th>Has Table booking</th>\n",
       "      <th>Has Online delivery</th>\n",
       "      <th>Is delivering now</th>\n",
       "      <th>Switch to order menu</th>\n",
       "      <th>Price range</th>\n",
       "      <th>Aggregate rating</th>\n",
       "      <th>Rating color</th>\n",
       "      <th>Rating text</th>\n",
       "      <th>Votes</th>\n",
       "    </tr>\n",
       "  </thead>\n",
       "  <tbody>\n",
       "    <tr>\n",
       "      <th>0</th>\n",
       "      <td>6317637</td>\n",
       "      <td>Le Petit Souffle</td>\n",
       "      <td>162</td>\n",
       "      <td>Makati City</td>\n",
       "      <td>Third Floor, Century City Mall, Kalayaan Avenu...</td>\n",
       "      <td>Century City Mall, Poblacion, Makati City</td>\n",
       "      <td>Century City Mall, Poblacion, Makati City, Mak...</td>\n",
       "      <td>121.027535</td>\n",
       "      <td>14.565443</td>\n",
       "      <td>French, Japanese, Desserts</td>\n",
       "      <td>...</td>\n",
       "      <td>Botswana Pula(P)</td>\n",
       "      <td>Yes</td>\n",
       "      <td>No</td>\n",
       "      <td>No</td>\n",
       "      <td>No</td>\n",
       "      <td>3</td>\n",
       "      <td>4.8</td>\n",
       "      <td>Dark Green</td>\n",
       "      <td>Excellent</td>\n",
       "      <td>314</td>\n",
       "    </tr>\n",
       "    <tr>\n",
       "      <th>1</th>\n",
       "      <td>6304287</td>\n",
       "      <td>Izakaya Kikufuji</td>\n",
       "      <td>162</td>\n",
       "      <td>Makati City</td>\n",
       "      <td>Little Tokyo, 2277 Chino Roces Avenue, Legaspi...</td>\n",
       "      <td>Little Tokyo, Legaspi Village, Makati City</td>\n",
       "      <td>Little Tokyo, Legaspi Village, Makati City, Ma...</td>\n",
       "      <td>121.014101</td>\n",
       "      <td>14.553708</td>\n",
       "      <td>Japanese</td>\n",
       "      <td>...</td>\n",
       "      <td>Botswana Pula(P)</td>\n",
       "      <td>Yes</td>\n",
       "      <td>No</td>\n",
       "      <td>No</td>\n",
       "      <td>No</td>\n",
       "      <td>3</td>\n",
       "      <td>4.5</td>\n",
       "      <td>Dark Green</td>\n",
       "      <td>Excellent</td>\n",
       "      <td>591</td>\n",
       "    </tr>\n",
       "    <tr>\n",
       "      <th>2</th>\n",
       "      <td>6300002</td>\n",
       "      <td>Heat - Edsa Shangri-La</td>\n",
       "      <td>162</td>\n",
       "      <td>Mandaluyong City</td>\n",
       "      <td>Edsa Shangri-La, 1 Garden Way, Ortigas, Mandal...</td>\n",
       "      <td>Edsa Shangri-La, Ortigas, Mandaluyong City</td>\n",
       "      <td>Edsa Shangri-La, Ortigas, Mandaluyong City, Ma...</td>\n",
       "      <td>121.056831</td>\n",
       "      <td>14.581404</td>\n",
       "      <td>Seafood, Asian, Filipino, Indian</td>\n",
       "      <td>...</td>\n",
       "      <td>Botswana Pula(P)</td>\n",
       "      <td>Yes</td>\n",
       "      <td>No</td>\n",
       "      <td>No</td>\n",
       "      <td>No</td>\n",
       "      <td>4</td>\n",
       "      <td>4.4</td>\n",
       "      <td>Green</td>\n",
       "      <td>Very Good</td>\n",
       "      <td>270</td>\n",
       "    </tr>\n",
       "    <tr>\n",
       "      <th>3</th>\n",
       "      <td>6318506</td>\n",
       "      <td>Ooma</td>\n",
       "      <td>162</td>\n",
       "      <td>Mandaluyong City</td>\n",
       "      <td>Third Floor, Mega Fashion Hall, SM Megamall, O...</td>\n",
       "      <td>SM Megamall, Ortigas, Mandaluyong City</td>\n",
       "      <td>SM Megamall, Ortigas, Mandaluyong City, Mandal...</td>\n",
       "      <td>121.056475</td>\n",
       "      <td>14.585318</td>\n",
       "      <td>Japanese, Sushi</td>\n",
       "      <td>...</td>\n",
       "      <td>Botswana Pula(P)</td>\n",
       "      <td>No</td>\n",
       "      <td>No</td>\n",
       "      <td>No</td>\n",
       "      <td>No</td>\n",
       "      <td>4</td>\n",
       "      <td>4.9</td>\n",
       "      <td>Dark Green</td>\n",
       "      <td>Excellent</td>\n",
       "      <td>365</td>\n",
       "    </tr>\n",
       "    <tr>\n",
       "      <th>4</th>\n",
       "      <td>6314302</td>\n",
       "      <td>Sambo Kojin</td>\n",
       "      <td>162</td>\n",
       "      <td>Mandaluyong City</td>\n",
       "      <td>Third Floor, Mega Atrium, SM Megamall, Ortigas...</td>\n",
       "      <td>SM Megamall, Ortigas, Mandaluyong City</td>\n",
       "      <td>SM Megamall, Ortigas, Mandaluyong City, Mandal...</td>\n",
       "      <td>121.057508</td>\n",
       "      <td>14.584450</td>\n",
       "      <td>Japanese, Korean</td>\n",
       "      <td>...</td>\n",
       "      <td>Botswana Pula(P)</td>\n",
       "      <td>Yes</td>\n",
       "      <td>No</td>\n",
       "      <td>No</td>\n",
       "      <td>No</td>\n",
       "      <td>4</td>\n",
       "      <td>4.8</td>\n",
       "      <td>Dark Green</td>\n",
       "      <td>Excellent</td>\n",
       "      <td>229</td>\n",
       "    </tr>\n",
       "    <tr>\n",
       "      <th>...</th>\n",
       "      <td>...</td>\n",
       "      <td>...</td>\n",
       "      <td>...</td>\n",
       "      <td>...</td>\n",
       "      <td>...</td>\n",
       "      <td>...</td>\n",
       "      <td>...</td>\n",
       "      <td>...</td>\n",
       "      <td>...</td>\n",
       "      <td>...</td>\n",
       "      <td>...</td>\n",
       "      <td>...</td>\n",
       "      <td>...</td>\n",
       "      <td>...</td>\n",
       "      <td>...</td>\n",
       "      <td>...</td>\n",
       "      <td>...</td>\n",
       "      <td>...</td>\n",
       "      <td>...</td>\n",
       "      <td>...</td>\n",
       "      <td>...</td>\n",
       "    </tr>\n",
       "    <tr>\n",
       "      <th>9546</th>\n",
       "      <td>5915730</td>\n",
       "      <td>Naml۱ Gurme</td>\n",
       "      <td>208</td>\n",
       "      <td>��stanbul</td>\n",
       "      <td>Kemanke�� Karamustafa Pa��a Mahallesi, R۱ht۱m ...</td>\n",
       "      <td>Karak�_y</td>\n",
       "      <td>Karak�_y, ��stanbul</td>\n",
       "      <td>28.977392</td>\n",
       "      <td>41.022793</td>\n",
       "      <td>Turkish</td>\n",
       "      <td>...</td>\n",
       "      <td>Turkish Lira(TL)</td>\n",
       "      <td>No</td>\n",
       "      <td>No</td>\n",
       "      <td>No</td>\n",
       "      <td>No</td>\n",
       "      <td>3</td>\n",
       "      <td>4.1</td>\n",
       "      <td>Green</td>\n",
       "      <td>Very Good</td>\n",
       "      <td>788</td>\n",
       "    </tr>\n",
       "    <tr>\n",
       "      <th>9547</th>\n",
       "      <td>5908749</td>\n",
       "      <td>Ceviz A��ac۱</td>\n",
       "      <td>208</td>\n",
       "      <td>��stanbul</td>\n",
       "      <td>Ko��uyolu Mahallesi, Muhittin ��st�_nda�� Cadd...</td>\n",
       "      <td>Ko��uyolu</td>\n",
       "      <td>Ko��uyolu, ��stanbul</td>\n",
       "      <td>29.041297</td>\n",
       "      <td>41.009847</td>\n",
       "      <td>World Cuisine, Patisserie, Cafe</td>\n",
       "      <td>...</td>\n",
       "      <td>Turkish Lira(TL)</td>\n",
       "      <td>No</td>\n",
       "      <td>No</td>\n",
       "      <td>No</td>\n",
       "      <td>No</td>\n",
       "      <td>3</td>\n",
       "      <td>4.2</td>\n",
       "      <td>Green</td>\n",
       "      <td>Very Good</td>\n",
       "      <td>1034</td>\n",
       "    </tr>\n",
       "    <tr>\n",
       "      <th>9548</th>\n",
       "      <td>5915807</td>\n",
       "      <td>Huqqa</td>\n",
       "      <td>208</td>\n",
       "      <td>��stanbul</td>\n",
       "      <td>Kuru�_e��me Mahallesi, Muallim Naci Caddesi, N...</td>\n",
       "      <td>Kuru�_e��me</td>\n",
       "      <td>Kuru�_e��me, ��stanbul</td>\n",
       "      <td>29.034640</td>\n",
       "      <td>41.055817</td>\n",
       "      <td>Italian, World Cuisine</td>\n",
       "      <td>...</td>\n",
       "      <td>Turkish Lira(TL)</td>\n",
       "      <td>No</td>\n",
       "      <td>No</td>\n",
       "      <td>No</td>\n",
       "      <td>No</td>\n",
       "      <td>4</td>\n",
       "      <td>3.7</td>\n",
       "      <td>Yellow</td>\n",
       "      <td>Good</td>\n",
       "      <td>661</td>\n",
       "    </tr>\n",
       "    <tr>\n",
       "      <th>9549</th>\n",
       "      <td>5916112</td>\n",
       "      <td>A���k Kahve</td>\n",
       "      <td>208</td>\n",
       "      <td>��stanbul</td>\n",
       "      <td>Kuru�_e��me Mahallesi, Muallim Naci Caddesi, N...</td>\n",
       "      <td>Kuru�_e��me</td>\n",
       "      <td>Kuru�_e��me, ��stanbul</td>\n",
       "      <td>29.036019</td>\n",
       "      <td>41.057979</td>\n",
       "      <td>Restaurant Cafe</td>\n",
       "      <td>...</td>\n",
       "      <td>Turkish Lira(TL)</td>\n",
       "      <td>No</td>\n",
       "      <td>No</td>\n",
       "      <td>No</td>\n",
       "      <td>No</td>\n",
       "      <td>4</td>\n",
       "      <td>4.0</td>\n",
       "      <td>Green</td>\n",
       "      <td>Very Good</td>\n",
       "      <td>901</td>\n",
       "    </tr>\n",
       "    <tr>\n",
       "      <th>9550</th>\n",
       "      <td>5927402</td>\n",
       "      <td>Walter's Coffee Roastery</td>\n",
       "      <td>208</td>\n",
       "      <td>��stanbul</td>\n",
       "      <td>Cafea��a Mahallesi, Bademalt۱ Sokak, No 21/B, ...</td>\n",
       "      <td>Moda</td>\n",
       "      <td>Moda, ��stanbul</td>\n",
       "      <td>29.026016</td>\n",
       "      <td>40.984776</td>\n",
       "      <td>Cafe</td>\n",
       "      <td>...</td>\n",
       "      <td>Turkish Lira(TL)</td>\n",
       "      <td>No</td>\n",
       "      <td>No</td>\n",
       "      <td>No</td>\n",
       "      <td>No</td>\n",
       "      <td>2</td>\n",
       "      <td>4.0</td>\n",
       "      <td>Green</td>\n",
       "      <td>Very Good</td>\n",
       "      <td>591</td>\n",
       "    </tr>\n",
       "  </tbody>\n",
       "</table>\n",
       "<p>9551 rows × 21 columns</p>\n",
       "</div>"
      ],
      "text/plain": [
       "      Restaurant ID           Restaurant Name  Country Code              City  \\\n",
       "0           6317637          Le Petit Souffle           162       Makati City   \n",
       "1           6304287          Izakaya Kikufuji           162       Makati City   \n",
       "2           6300002    Heat - Edsa Shangri-La           162  Mandaluyong City   \n",
       "3           6318506                      Ooma           162  Mandaluyong City   \n",
       "4           6314302               Sambo Kojin           162  Mandaluyong City   \n",
       "...             ...                       ...           ...               ...   \n",
       "9546        5915730               Naml۱ Gurme           208         ��stanbul   \n",
       "9547        5908749              Ceviz A��ac۱           208         ��stanbul   \n",
       "9548        5915807                     Huqqa           208         ��stanbul   \n",
       "9549        5916112               A���k Kahve           208         ��stanbul   \n",
       "9550        5927402  Walter's Coffee Roastery           208         ��stanbul   \n",
       "\n",
       "                                                Address  \\\n",
       "0     Third Floor, Century City Mall, Kalayaan Avenu...   \n",
       "1     Little Tokyo, 2277 Chino Roces Avenue, Legaspi...   \n",
       "2     Edsa Shangri-La, 1 Garden Way, Ortigas, Mandal...   \n",
       "3     Third Floor, Mega Fashion Hall, SM Megamall, O...   \n",
       "4     Third Floor, Mega Atrium, SM Megamall, Ortigas...   \n",
       "...                                                 ...   \n",
       "9546  Kemanke�� Karamustafa Pa��a Mahallesi, R۱ht۱m ...   \n",
       "9547  Ko��uyolu Mahallesi, Muhittin ��st�_nda�� Cadd...   \n",
       "9548  Kuru�_e��me Mahallesi, Muallim Naci Caddesi, N...   \n",
       "9549  Kuru�_e��me Mahallesi, Muallim Naci Caddesi, N...   \n",
       "9550  Cafea��a Mahallesi, Bademalt۱ Sokak, No 21/B, ...   \n",
       "\n",
       "                                        Locality  \\\n",
       "0      Century City Mall, Poblacion, Makati City   \n",
       "1     Little Tokyo, Legaspi Village, Makati City   \n",
       "2     Edsa Shangri-La, Ortigas, Mandaluyong City   \n",
       "3         SM Megamall, Ortigas, Mandaluyong City   \n",
       "4         SM Megamall, Ortigas, Mandaluyong City   \n",
       "...                                          ...   \n",
       "9546                                    Karak�_y   \n",
       "9547                                   Ko��uyolu   \n",
       "9548                                 Kuru�_e��me   \n",
       "9549                                 Kuru�_e��me   \n",
       "9550                                        Moda   \n",
       "\n",
       "                                       Locality Verbose   Longitude  \\\n",
       "0     Century City Mall, Poblacion, Makati City, Mak...  121.027535   \n",
       "1     Little Tokyo, Legaspi Village, Makati City, Ma...  121.014101   \n",
       "2     Edsa Shangri-La, Ortigas, Mandaluyong City, Ma...  121.056831   \n",
       "3     SM Megamall, Ortigas, Mandaluyong City, Mandal...  121.056475   \n",
       "4     SM Megamall, Ortigas, Mandaluyong City, Mandal...  121.057508   \n",
       "...                                                 ...         ...   \n",
       "9546                                Karak�_y, ��stanbul   28.977392   \n",
       "9547                               Ko��uyolu, ��stanbul   29.041297   \n",
       "9548                             Kuru�_e��me, ��stanbul   29.034640   \n",
       "9549                             Kuru�_e��me, ��stanbul   29.036019   \n",
       "9550                                    Moda, ��stanbul   29.026016   \n",
       "\n",
       "       Latitude                          Cuisines  ...          Currency  \\\n",
       "0     14.565443        French, Japanese, Desserts  ...  Botswana Pula(P)   \n",
       "1     14.553708                          Japanese  ...  Botswana Pula(P)   \n",
       "2     14.581404  Seafood, Asian, Filipino, Indian  ...  Botswana Pula(P)   \n",
       "3     14.585318                   Japanese, Sushi  ...  Botswana Pula(P)   \n",
       "4     14.584450                  Japanese, Korean  ...  Botswana Pula(P)   \n",
       "...         ...                               ...  ...               ...   \n",
       "9546  41.022793                           Turkish  ...  Turkish Lira(TL)   \n",
       "9547  41.009847   World Cuisine, Patisserie, Cafe  ...  Turkish Lira(TL)   \n",
       "9548  41.055817            Italian, World Cuisine  ...  Turkish Lira(TL)   \n",
       "9549  41.057979                   Restaurant Cafe  ...  Turkish Lira(TL)   \n",
       "9550  40.984776                              Cafe  ...  Turkish Lira(TL)   \n",
       "\n",
       "     Has Table booking Has Online delivery Is delivering now  \\\n",
       "0                  Yes                  No                No   \n",
       "1                  Yes                  No                No   \n",
       "2                  Yes                  No                No   \n",
       "3                   No                  No                No   \n",
       "4                  Yes                  No                No   \n",
       "...                ...                 ...               ...   \n",
       "9546                No                  No                No   \n",
       "9547                No                  No                No   \n",
       "9548                No                  No                No   \n",
       "9549                No                  No                No   \n",
       "9550                No                  No                No   \n",
       "\n",
       "     Switch to order menu Price range  Aggregate rating  Rating color  \\\n",
       "0                      No           3               4.8    Dark Green   \n",
       "1                      No           3               4.5    Dark Green   \n",
       "2                      No           4               4.4         Green   \n",
       "3                      No           4               4.9    Dark Green   \n",
       "4                      No           4               4.8    Dark Green   \n",
       "...                   ...         ...               ...           ...   \n",
       "9546                   No           3               4.1         Green   \n",
       "9547                   No           3               4.2         Green   \n",
       "9548                   No           4               3.7        Yellow   \n",
       "9549                   No           4               4.0         Green   \n",
       "9550                   No           2               4.0         Green   \n",
       "\n",
       "     Rating text Votes  \n",
       "0      Excellent   314  \n",
       "1      Excellent   591  \n",
       "2      Very Good   270  \n",
       "3      Excellent   365  \n",
       "4      Excellent   229  \n",
       "...          ...   ...  \n",
       "9546   Very Good   788  \n",
       "9547   Very Good  1034  \n",
       "9548        Good   661  \n",
       "9549   Very Good   901  \n",
       "9550   Very Good   591  \n",
       "\n",
       "[9551 rows x 21 columns]"
      ]
     },
     "execution_count": 3,
     "metadata": {},
     "output_type": "execute_result"
    }
   ],
   "source": [
    "# load dataset\n",
    "df = pd.read_csv(r\"C:\\Users\\Lenovo\\OneDrive\\Desktop\\cognify internship\\Dataset .csv\")\n",
    "df"
   ]
  },
  {
   "cell_type": "code",
   "execution_count": 4,
   "metadata": {
    "id": "c99654bd"
   },
   "outputs": [
    {
     "name": "stdout",
     "output_type": "stream",
     "text": [
      "Dataframe Info:\n",
      "<class 'pandas.core.frame.DataFrame'>\n",
      "RangeIndex: 9551 entries, 0 to 9550\n",
      "Data columns (total 21 columns):\n",
      " #   Column                Non-Null Count  Dtype  \n",
      "---  ------                --------------  -----  \n",
      " 0   Restaurant ID         9551 non-null   int64  \n",
      " 1   Restaurant Name       9551 non-null   object \n",
      " 2   Country Code          9551 non-null   int64  \n",
      " 3   City                  9551 non-null   object \n",
      " 4   Address               9551 non-null   object \n",
      " 5   Locality              9551 non-null   object \n",
      " 6   Locality Verbose      9551 non-null   object \n",
      " 7   Longitude             9551 non-null   float64\n",
      " 8   Latitude              9551 non-null   float64\n",
      " 9   Cuisines              9542 non-null   object \n",
      " 10  Average Cost for two  9551 non-null   int64  \n",
      " 11  Currency              9551 non-null   object \n",
      " 12  Has Table booking     9551 non-null   object \n",
      " 13  Has Online delivery   9551 non-null   object \n",
      " 14  Is delivering now     9551 non-null   object \n",
      " 15  Switch to order menu  9551 non-null   object \n",
      " 16  Price range           9551 non-null   int64  \n",
      " 17  Aggregate rating      9551 non-null   float64\n",
      " 18  Rating color          9551 non-null   object \n",
      " 19  Rating text           9551 non-null   object \n",
      " 20  Votes                 9551 non-null   int64  \n",
      "dtypes: float64(3), int64(5), object(13)\n",
      "memory usage: 1.5+ MB\n",
      "\n",
      "Descriptive Statistics for Numerical Columns:\n"
     ]
    },
    {
     "data": {
      "text/html": [
       "<div>\n",
       "<style scoped>\n",
       "    .dataframe tbody tr th:only-of-type {\n",
       "        vertical-align: middle;\n",
       "    }\n",
       "\n",
       "    .dataframe tbody tr th {\n",
       "        vertical-align: top;\n",
       "    }\n",
       "\n",
       "    .dataframe thead th {\n",
       "        text-align: right;\n",
       "    }\n",
       "</style>\n",
       "<table border=\"1\" class=\"dataframe\">\n",
       "  <thead>\n",
       "    <tr style=\"text-align: right;\">\n",
       "      <th></th>\n",
       "      <th>Restaurant ID</th>\n",
       "      <th>Country Code</th>\n",
       "      <th>Longitude</th>\n",
       "      <th>Latitude</th>\n",
       "      <th>Average Cost for two</th>\n",
       "      <th>Price range</th>\n",
       "      <th>Aggregate rating</th>\n",
       "      <th>Votes</th>\n",
       "    </tr>\n",
       "  </thead>\n",
       "  <tbody>\n",
       "    <tr>\n",
       "      <th>count</th>\n",
       "      <td>9.551000e+03</td>\n",
       "      <td>9551.000000</td>\n",
       "      <td>9551.000000</td>\n",
       "      <td>9551.000000</td>\n",
       "      <td>9551.000000</td>\n",
       "      <td>9551.000000</td>\n",
       "      <td>9551.000000</td>\n",
       "      <td>9551.000000</td>\n",
       "    </tr>\n",
       "    <tr>\n",
       "      <th>mean</th>\n",
       "      <td>9.051128e+06</td>\n",
       "      <td>18.365616</td>\n",
       "      <td>64.126574</td>\n",
       "      <td>25.854381</td>\n",
       "      <td>1199.210763</td>\n",
       "      <td>1.804837</td>\n",
       "      <td>2.666370</td>\n",
       "      <td>156.909748</td>\n",
       "    </tr>\n",
       "    <tr>\n",
       "      <th>std</th>\n",
       "      <td>8.791521e+06</td>\n",
       "      <td>56.750546</td>\n",
       "      <td>41.467058</td>\n",
       "      <td>11.007935</td>\n",
       "      <td>16121.183073</td>\n",
       "      <td>0.905609</td>\n",
       "      <td>1.516378</td>\n",
       "      <td>430.169145</td>\n",
       "    </tr>\n",
       "    <tr>\n",
       "      <th>min</th>\n",
       "      <td>5.300000e+01</td>\n",
       "      <td>1.000000</td>\n",
       "      <td>-157.948486</td>\n",
       "      <td>-41.330428</td>\n",
       "      <td>0.000000</td>\n",
       "      <td>1.000000</td>\n",
       "      <td>0.000000</td>\n",
       "      <td>0.000000</td>\n",
       "    </tr>\n",
       "    <tr>\n",
       "      <th>25%</th>\n",
       "      <td>3.019625e+05</td>\n",
       "      <td>1.000000</td>\n",
       "      <td>77.081343</td>\n",
       "      <td>28.478713</td>\n",
       "      <td>250.000000</td>\n",
       "      <td>1.000000</td>\n",
       "      <td>2.500000</td>\n",
       "      <td>5.000000</td>\n",
       "    </tr>\n",
       "    <tr>\n",
       "      <th>50%</th>\n",
       "      <td>6.004089e+06</td>\n",
       "      <td>1.000000</td>\n",
       "      <td>77.191964</td>\n",
       "      <td>28.570469</td>\n",
       "      <td>400.000000</td>\n",
       "      <td>2.000000</td>\n",
       "      <td>3.200000</td>\n",
       "      <td>31.000000</td>\n",
       "    </tr>\n",
       "    <tr>\n",
       "      <th>75%</th>\n",
       "      <td>1.835229e+07</td>\n",
       "      <td>1.000000</td>\n",
       "      <td>77.282006</td>\n",
       "      <td>28.642758</td>\n",
       "      <td>700.000000</td>\n",
       "      <td>2.000000</td>\n",
       "      <td>3.700000</td>\n",
       "      <td>131.000000</td>\n",
       "    </tr>\n",
       "    <tr>\n",
       "      <th>max</th>\n",
       "      <td>1.850065e+07</td>\n",
       "      <td>216.000000</td>\n",
       "      <td>174.832089</td>\n",
       "      <td>55.976980</td>\n",
       "      <td>800000.000000</td>\n",
       "      <td>4.000000</td>\n",
       "      <td>4.900000</td>\n",
       "      <td>10934.000000</td>\n",
       "    </tr>\n",
       "  </tbody>\n",
       "</table>\n",
       "</div>"
      ],
      "text/plain": [
       "       Restaurant ID  Country Code    Longitude     Latitude  \\\n",
       "count   9.551000e+03   9551.000000  9551.000000  9551.000000   \n",
       "mean    9.051128e+06     18.365616    64.126574    25.854381   \n",
       "std     8.791521e+06     56.750546    41.467058    11.007935   \n",
       "min     5.300000e+01      1.000000  -157.948486   -41.330428   \n",
       "25%     3.019625e+05      1.000000    77.081343    28.478713   \n",
       "50%     6.004089e+06      1.000000    77.191964    28.570469   \n",
       "75%     1.835229e+07      1.000000    77.282006    28.642758   \n",
       "max     1.850065e+07    216.000000   174.832089    55.976980   \n",
       "\n",
       "       Average Cost for two  Price range  Aggregate rating         Votes  \n",
       "count           9551.000000  9551.000000       9551.000000   9551.000000  \n",
       "mean            1199.210763     1.804837          2.666370    156.909748  \n",
       "std            16121.183073     0.905609          1.516378    430.169145  \n",
       "min                0.000000     1.000000          0.000000      0.000000  \n",
       "25%              250.000000     1.000000          2.500000      5.000000  \n",
       "50%              400.000000     2.000000          3.200000     31.000000  \n",
       "75%              700.000000     2.000000          3.700000    131.000000  \n",
       "max           800000.000000     4.000000          4.900000  10934.000000  "
      ]
     },
     "metadata": {},
     "output_type": "display_data"
    }
   ],
   "source": [
    "# Get statastics about dataset  \n",
    "print(\"Dataframe Info:\")\n",
    "df.info()\n",
    "\n",
    "print(\"\\nDescriptive Statistics for Numerical Columns:\")\n",
    "display(df.describe())"
   ]
  },
  {
   "cell_type": "markdown",
   "metadata": {
    "id": "HS0Fjzw1l3ZQ"
   },
   "source": [
    "## **Restaurant Services and Ratings Dataset**\n",
    "\n",
    "This dataset contains **9,551 records** and **21 columns** with mixed data types.\n",
    "It includes restaurant details like location, services, cuisines, cost, ratings, and votes.\n",
    "There are"
   ]
  },
  {
   "cell_type": "markdown",
   "metadata": {
    "id": "zFMQySK7W83v"
   },
   "source": [
    "### Task 1:\n",
    "Top Cuisines\n",
    "\n",
    "We now need to:\n",
    "\n",
    "- Determine the **top three most common cuisines** in the dataset.\n",
    "- Calculate the **percentage of restaurants** that serve each of these top cuisines.\n"
   ]
  },
  {
   "cell_type": "code",
   "execution_count": null,
   "metadata": {
    "id": "TamwQGpTkUG4"
   },
   "outputs": [],
   "source": [
    "# cheak cuisines column\n",
    "# Blank rows count in 'Cuisines' column\n",
    "print(\"\\nNumber of blank rows in 'Cuisines' column:\")\n",
    "print(df['Cuisines'].isnull().sum()) \n",
    "\n",
    "# Top 5 rows of 'Cuisines' column\n",
    "print(\"\\nTop 5 values in 'Cuisines' column:\")\n",
    "print(df['Cuisines'].head())"
   ]
  },
  {
   "cell_type": "markdown",
   "metadata": {
    "id": "V03YJb0VWgHa"
   },
   "source": [
    "I’ll now clean the data by removing blanks in the 'Cuisines' column, splitting multiple cuisines into separate rows, and trimming extra spaces  \n",
    "to prepare it for analysis."
   ]
  },
  {
   "cell_type": "code",
   "execution_count": 5,
   "metadata": {
    "id": "008AO7eJnhId"
   },
   "outputs": [
    {
     "name": "stdout",
     "output_type": "stream",
     "text": [
      "total Restaurants: 9551\n",
      "Top 3 Cuisines with Percentage:\n",
      "               Count  Percentage\n",
      "Cuisines                       \n",
      "North Indian   3960       41.46\n",
      "Chinese        2735       28.64\n",
      "Fast Food      1986       20.79\n"
     ]
    },
    {
     "data": {
      "image/png": "[encoded data removed]",
      "text/plain": [
       "<Figure size 600x400 with 1 Axes>"
      ]
     },
     "metadata": {},
     "output_type": "display_data"
    }
   ],
   "source": [
    "# DATA CLEANING ----------\n",
    "\n",
    "# Drop missing cuisines\n",
    "df_clean = df.dropna(subset=['Cuisines'])\n",
    "\n",
    "# Split cuisines multiple and explode into separate rows - (North Indian, Chinese, Fast Food)\n",
    "df_exploded = df_clean.assign(Cuisines=df_clean['Cuisines'].str.split(',')).explode('Cuisines')\n",
    "\n",
    "# Remove extra whitespaces\n",
    "df_exploded['Cuisines'] = df_exploded['Cuisines'].str.strip()\n",
    "\n",
    "# CALCULATIONS ------------\n",
    "\n",
    "# top 3 cuisines\n",
    "top_cuisines = df_exploded['Cuisines'].value_counts().head(3)\n",
    "\n",
    "# Calculate total restaurants\n",
    "total_restaurants =df['Restaurant ID'].count()\n",
    "print(\"total Restaurants:\",total_restaurants)\n",
    "\n",
    "# Calculate percentage for each top cuisine\n",
    "percentage = (top_cuisines / total_restaurants) * 100\n",
    "percentage = percentage.round(2) # 41.46567 -> 41.46\n",
    "\n",
    "# DATAFRAME\n",
    "\n",
    "# Combine counts and percentage into one DataFrame\n",
    "result = pd.DataFrame({\n",
    "    'Count': top_cuisines,\n",
    "    'Percentage': percentage\n",
    "})\n",
    "print(\"Top 3 Cuisines with Percentage:\\n\", result)\n",
    "\n",
    "# Plotting the Bar chart\n",
    "plt.figure(figsize=(6,4))\n",
    "plt.bar(result.index, result['Percentage'], color='skyblue')\n",
    "plt.xticks(rotation=30, ha='right')\n",
    "plt.title('Top 3 Cuisines by Restaurant Percentage')\n",
    "plt.xlabel('Cuisine')\n",
    "plt.ylabel('Percentage of Restaurants (%)')\n",
    "plt.ylim(0,45)\n",
    "plt.grid(axis='y',color='grey',alpha=0.5,linestyle=':')\n",
    "plt.tight_layout()\n",
    "plt.show()"
   ]
  },
  {
   "cell_type": "markdown",
   "metadata": {
    "id": "MP1MOtprYUXb"
   },
   "source": [
    "### Summary of Findings:\n",
    "\n",
    "After cleaning and analyzing the dataset, I found the following:\n",
    "\n",
    "- The **top 3 most common cuisines** served by restaurants are:\n",
    "  - **North Indian** – served by **41.46%** of restaurants\n",
    "  - **Chinese** – served by **28.64%**\n",
    "  - **Fast Food** – served by **20.79%**\n",
    "  \n",
    "- These three cuisines together cover **over 90%** of all restaurants in the dataset.\n",
    "-- -"
   ]
  },
  {
   "cell_type": "markdown",
   "metadata": {
    "id": "iOQU4VL3p04R"
   },
   "source": [
    "### Task 2\n",
    "\n",
    "### City Analysis\n",
    "\n",
    "Now We have completed the second task from the City Analysis.\n",
    "\n",
    "**Task:** Calculate the average rating for restaurants in each city.\n",
    "\n",
    "**What we did:**\n",
    "\n",
    "- Grouped the data by city.\n",
    "- Calculated the average rating for each city.\n",
    "\n",
    "This helps us understand how well restaurants are rated in different cities.\n"
   ]
  },
  {
   "cell_type": "markdown",
   "metadata": {
    "id": "0mWEz4DT_1zC"
   },
   "source": [
    "While reviewing the dataset, I noticed some city names had symbolic unreadable characters due to encoding issues.  \n",
    "To fix this -"
   ]
  },
  {
   "cell_type": "code",
   "execution_count": 6,
   "metadata": {
    "id": "dX8QeZPZuDqK"
   },
   "outputs": [
    {
     "name": "stdout",
     "output_type": "stream",
     "text": [
      "\n",
      "Cities with potential symbolic or non-standard characters:\n",
      "['Bras�_lia' 'S��o Paulo' '��stanbul']\n"
     ]
    }
   ],
   "source": [
    "# cheak symbolic text in city column  ( ��stanbul) like this\n",
    "\n",
    "# Function to check for non-ASCII characters in a string\n",
    "def has_non_ascii(text):\n",
    "  if isinstance(text, str):\n",
    "    return not text.isascii()\n",
    "  return False\n",
    "\n",
    "# Apply the function to the 'City' column and filter for rows with non-ASCII characters\n",
    "cities_with_symbolic_text = df[df['City'].apply(has_non_ascii)]\n",
    "\n",
    "print(\"\\nCities with potential symbolic or non-standard characters:\")\n",
    "print(cities_with_symbolic_text['City'].unique())"
   ]
  },
  {
   "cell_type": "markdown",
   "metadata": {
    "id": "adMVZd7C7U_M"
   },
   "source": [
    "###  City Name Cleanup\n",
    "\n",
    "Some city names have symbolic characters due to encoding issues (e.g., `��stanbul`, `S��o Paulo`).  \n",
    "These need to be replaced with correct names for proper analysis.  \n",
    "We'll clean and standardize them before moving forward."
   ]
  },
  {
   "cell_type": "code",
   "execution_count": 7,
   "metadata": {
    "id": "0W_kgK_i7YSV"
   },
   "outputs": [],
   "source": [
    "# Replace incorrect symbolic city names with correct names\n",
    "df['City'] = df['City'].replace({\n",
    "    'Bras�_lia': 'Brasilia',\n",
    "    'S��o Paulo': 'Sao Paulo',\n",
    "    '��stanbul': 'Istanbul'\n",
    "})"
   ]
  },
  {
   "cell_type": "markdown",
   "metadata": {
    "id": "NoXPnEMID1KN"
   },
   "source": [
    "I observed that the `Aggregate rating` column contains some missing values.  \n",
    "To avoid dropping rows and keep the dataset complete, I replaced all missing ratings with `0`."
   ]
  },
  {
   "cell_type": "code",
   "execution_count": 8,
   "metadata": {
    "id": "bo2lh3I1EEMN"
   },
   "outputs": [
    {
     "name": "stdout",
     "output_type": "stream",
     "text": [
      "Missing ratings after filling: 0\n"
     ]
    }
   ],
   "source": [
    "# Replace missing values in 'Aggregate rating' with 0\n",
    "df['Aggregate rating'] = df['Aggregate rating'].fillna(0)\n",
    "\n",
    "print(\"Missing ratings after filling:\", df['Aggregate rating'].isnull().sum())"
   ]
  },
  {
   "cell_type": "markdown",
   "metadata": {
    "id": "5cu4Zf4TK7c7"
   },
   "source": [
    "###  City Analysis\n",
    "1. Identify the city with the highest number of restaurants.\n",
    "2. Calculate the average rating for restaurants in each city.\n",
    "3. Determine the city with the highest average rating.\n"
   ]
  },
  {
   "cell_type": "code",
   "execution_count": 9,
   "metadata": {
    "id": "Pch43ZcnKQG6"
   },
   "outputs": [
    {
     "name": "stdout",
     "output_type": "stream",
     "text": [
      "City with Highest Number of Restaurants:\n",
      "City                New Delhi\n",
      "restaurant count         5473\n",
      "Name: 0, dtype: object\n",
      "\n",
      " Cities by Average Rating:\n",
      "        City  Avg_rating\n",
      "0  Abu Dhabi    4.300000\n",
      "1       Agra    3.965000\n",
      "2  Ahmedabad    4.161905\n",
      "3     Albany    3.555000\n",
      "4  Allahabad    3.395000\n",
      "\n",
      "City with Highest Average Rating:\n",
      "City          Inner City\n",
      "Avg_rating           4.9\n",
      "Name: 56, dtype: object\n"
     ]
    },
    {
     "data": {
      "image/png": "[encoded data removed]",
      "text/plain": [
       "<Figure size 1000x400 with 2 Axes>"
      ]
     },
     "metadata": {},
     "output_type": "display_data"
    }
   ],
   "source": [
    "# 1. identify the city with the highest number of restaurants\n",
    "city_counts = df['City'].value_counts().reset_index()\n",
    "city_counts.columns = ['City','restaurant count'] # change column Name\n",
    "\n",
    "top_city_counts = city_counts.iloc[0]\n",
    "print(\"City with Highest Number of Restaurants:\")\n",
    "print(top_city_counts)\n",
    "\n",
    "# 2. Average Rating for Restaurants in Each City\n",
    "avg_rating_by_city= df.groupby('City')['Aggregate rating'].mean().reset_index()\n",
    "avg_rating_by_city.columns=['City','Avg_rating']\n",
    "print(\"\\n Cities by Average Rating:\")\n",
    "print(avg_rating_by_city.head(5))\n",
    "\n",
    "\n",
    "# 3: Determine the city with the highest average rating\n",
    "top_city_avg_rating = avg_rating_by_city.sort_values(by= 'Avg_rating', ascending=False).iloc[0]\n",
    "print(\"\\nCity with Highest Average Rating:\")\n",
    "print(top_city_avg_rating)\n",
    "\n",
    "# Visualization\n",
    "plt.figure(figsize=(10,4))\n",
    "\n",
    "plt.subplot(1,2,1)\n",
    "sns.barplot(x='restaurant count',y='City', data = city_counts.head(), hue='City' ,palette='viridis')\n",
    "plt.title('Top 5 Cities by Number of Restaurants')\n",
    "plt.xlabel('Number of Restaurants')\n",
    "plt.ylabel('City')\n",
    "\n",
    "plt.subplot(1,2,2)\n",
    "top_city_avg_rating =avg_rating_by_city.sort_values(by= 'Avg_rating', ascending=False).head()\n",
    "sns.barplot(x='Avg_rating',y='City', data = top_city_avg_rating, hue='City', palette='coolwarm')\n",
    "plt.title('Top 5 Cities by Average Rating')\n",
    "plt.xlabel('Average Rating')\n",
    "plt.ylabel('City')\n",
    "\n",
    "plt.tight_layout()\n",
    "plt.show()"
   ]
  },
  {
   "cell_type": "markdown",
   "metadata": {
    "id": "dLZaQtNYgxP8"
   },
   "source": [
    "### Result Summary\n",
    "New Delhi has the most restaurants in the dataset, with a total of 5,473 restaurants.\n",
    "\n",
    "Inner City has the highest average rating of 4.9, indicating excellent overall customer satisfaction.\n",
    "\n",
    "#### Top 5 Cities by Restaurant Count\n",
    "1. New Delhi  \n",
    "2. Gurgaon  \n",
    "3. Noida  \n",
    "4. Faridabad  \n",
    "5. Ghaziabad\n",
    "\n",
    "#### Top 5 Cities by Average Rating\n",
    "1. Inner City (4.9)  \n",
    "2. Quezon City  \n",
    "3. Makati City  \n",
    "4. Pasig City  \n",
    "5. Mandaluyong City\n",
    "\n"
   ]
  },
  {
   "cell_type": "markdown",
   "metadata": {
    "id": "FOG53RoQi--x"
   },
   "source": [
    "### Conclusion\n",
    "\n",
    "New Delhi is the leading city in terms of quantity of restaurants.  \n",
    "Inner City ranks highest in quality based on customer ratings.  \n",
    "A high number of restaurants doesn’t always mean better customer satisfaction.  \n",
    "Cities like Quezon City and Makati City also perform well in terms of average ratings and show strong dining experiences.\n",
    "-- -"
   ]
  },
  {
   "cell_type": "markdown",
   "metadata": {
    "id": "O_xFrgzXSquF"
   },
   "source": [
    "\n",
    "### Task 3"
   ]
  },
  {
   "cell_type": "markdown",
   "metadata": {
    "id": "MAQLD78JNPZe"
   },
   "source": [
    "###  Price Range Distribution Analysis\n",
    "\n",
    "In this notebook, we are analyzing the distribution of restaurants across different **price ranges** using a dataset.\n",
    "\n",
    "###  Objectives:\n",
    "- Understand how many restaurants fall into each pricing category.\n",
    "- Clean and prepare the data before analysis.\n",
    "- Visualize the price range distribution using a bar chart.\n",
    "- Derive insights for business or strategy decisions."
   ]
  },
  {
   "cell_type": "code",
   "execution_count": null,
   "metadata": {
    "id": "VWx4eWt6jPe5"
   },
   "outputs": [],
   "source": [
    "# This task, we only need 'Restaurant Name' and 'Price range'\n",
    "df_1 = df[['Restaurant Name', 'Price range']]\n",
    "df_1"
   ]
  },
  {
   "cell_type": "markdown",
   "metadata": {
    "id": "hk7YnACFSg0L"
   },
   "source": [
    " ### Handle missing values\n",
    " In price rang have some blank rows so now that will be drop"
   ]
  },
  {
   "cell_type": "code",
   "execution_count": null,
   "metadata": {
    "id": "KbMOUokBQ3lD"
   },
   "outputs": [],
   "source": [
    "# Drop missing rows\n",
    "df = df[df['Price range'].notnull()]"
   ]
  },
  {
   "cell_type": "markdown",
   "metadata": {
    "id": "-Mo2LGJSTUBS"
   },
   "source": [
    "### Calculate price range counts and percentages"
   ]
  },
  {
   "cell_type": "code",
   "execution_count": null,
   "metadata": {
    "id": "RrPhsraNTTrz"
   },
   "outputs": [],
   "source": [
    "price_counts = df['Price range'].value_counts().sort_index()\n",
    "price_percentage = (price_counts / price_counts.sum()) * 100\n",
    "price_percentage"
   ]
  },
  {
   "cell_type": "code",
   "execution_count": null,
   "metadata": {
    "id": "ZxRSGT0yVEzK"
   },
   "outputs": [],
   "source": [
    "# Plot the percentage as a bar chart\n",
    "plt.figure(figsize=(8, 5))\n",
    "bars = plt.bar(price_percentage.index.astype(str), price_percentage.values, color='lightgreen', edgecolor='black')\n",
    "plt.title(\"Price Range Distribution (%)\")\n",
    "plt.xlabel(\"Price Range (1 = Low, 4 = Very High)\")\n",
    "plt.ylabel(\"Percentage of Restaurants\")\n",
    "plt.grid(axis='y', linestyle='--', alpha=0.5)\n",
    "\n",
    "# Adding labels on top of bars\n",
    "for bar in bars:\n",
    "    yval = bar.get_height()\n",
    "    plt.text(bar.get_x() + bar.get_width()/2, yval + 0.5, f\"{yval:.1f}%\", ha='center', fontsize=10)\n",
    "\n",
    "plt.tight_layout()\n",
    "plt.show()\n"
   ]
  },
  {
   "cell_type": "markdown",
   "metadata": {
    "id": "rAIIyh7FVfUl"
   },
   "source": [
    "### Insights:\n",
    "\n",
    "-  **46.5%** of restaurants are in the **low price** category (1).\n",
    "-  Only **6.1%** fall into the **very high price** category (4).\n",
    "-  Combining **low and moderate** price restaurants covers **~79%** of all restaurants.\n",
    "\n",
    "### Conclusion:\n",
    "- 79% of restaurants fall under low to moderate pricing, indicating that the market is highly focused on affordability.\n",
    "- Only a small portion is targeting premium customers.\n",
    "- This insight is helpful for planning pricing strategy, marketing, or location-based offerings.\n",
    "-- -"
   ]
  },
  {
   "cell_type": "markdown",
   "metadata": {
    "id": "miH5tMJzF_D8"
   },
   "source": [
    "### Task 4"
   ]
  },
  {
   "cell_type": "markdown",
   "metadata": {
    "id": "P8QIDbIPF-rp"
   },
   "source": [
    "### Online Delivery Analysis\n",
    "\n",
    "### Objective\n",
    "- Determine the percentage of restaurants that offer online delivery.\n",
    "- Compare the average ratings of restaurants with and without online delivery.\n",
    "\n",
    "### Purpose\n",
    "- To understand how online delivery influences customer ratings.\n",
    "- To assess how widely online delivery is adopted among restaurants.\n",
    "- To help identify potential opportunities for restaurants to improve service reach and satisfaction.\n"
   ]
  },
  {
   "cell_type": "markdown",
   "metadata": {
    "id": "bYSeORoCdD9M"
   },
   "source": [
    "### Data Cleaning\n",
    "Numeric values in the **\"Has Online Delivery\"** column (e.g., `0`, `1.0`) were replaced with `\"No\"` to keep values consistent as `\"Yes\"` or `\"No\"`.\n"
   ]
  },
  {
   "cell_type": "code",
   "execution_count": 10,
   "metadata": {
    "id": "Sjno0LeFF-ZZ"
   },
   "outputs": [
    {
     "data": {
      "text/html": [
       "<div>\n",
       "<style scoped>\n",
       "    .dataframe tbody tr th:only-of-type {\n",
       "        vertical-align: middle;\n",
       "    }\n",
       "\n",
       "    .dataframe tbody tr th {\n",
       "        vertical-align: top;\n",
       "    }\n",
       "\n",
       "    .dataframe thead th {\n",
       "        text-align: right;\n",
       "    }\n",
       "</style>\n",
       "<table border=\"1\" class=\"dataframe\">\n",
       "  <thead>\n",
       "    <tr style=\"text-align: right;\">\n",
       "      <th></th>\n",
       "      <th>Restaurant Name</th>\n",
       "      <th>Has Online delivery</th>\n",
       "      <th>Aggregate rating</th>\n",
       "    </tr>\n",
       "  </thead>\n",
       "  <tbody>\n",
       "    <tr>\n",
       "      <th>0</th>\n",
       "      <td>Le Petit Souffle</td>\n",
       "      <td>No</td>\n",
       "      <td>4.8</td>\n",
       "    </tr>\n",
       "    <tr>\n",
       "      <th>1</th>\n",
       "      <td>Izakaya Kikufuji</td>\n",
       "      <td>No</td>\n",
       "      <td>4.5</td>\n",
       "    </tr>\n",
       "    <tr>\n",
       "      <th>2</th>\n",
       "      <td>Heat - Edsa Shangri-La</td>\n",
       "      <td>No</td>\n",
       "      <td>4.4</td>\n",
       "    </tr>\n",
       "    <tr>\n",
       "      <th>3</th>\n",
       "      <td>Ooma</td>\n",
       "      <td>No</td>\n",
       "      <td>4.9</td>\n",
       "    </tr>\n",
       "    <tr>\n",
       "      <th>4</th>\n",
       "      <td>Sambo Kojin</td>\n",
       "      <td>No</td>\n",
       "      <td>4.8</td>\n",
       "    </tr>\n",
       "    <tr>\n",
       "      <th>5</th>\n",
       "      <td>Din Tai Fung</td>\n",
       "      <td>No</td>\n",
       "      <td>4.4</td>\n",
       "    </tr>\n",
       "    <tr>\n",
       "      <th>6</th>\n",
       "      <td>Buffet 101</td>\n",
       "      <td>No</td>\n",
       "      <td>4.0</td>\n",
       "    </tr>\n",
       "    <tr>\n",
       "      <th>7</th>\n",
       "      <td>Vikings</td>\n",
       "      <td>No</td>\n",
       "      <td>4.2</td>\n",
       "    </tr>\n",
       "    <tr>\n",
       "      <th>8</th>\n",
       "      <td>Spiral - Sofitel Philippine Plaza Manila</td>\n",
       "      <td>No</td>\n",
       "      <td>4.9</td>\n",
       "    </tr>\n",
       "    <tr>\n",
       "      <th>9</th>\n",
       "      <td>Locavore</td>\n",
       "      <td>No</td>\n",
       "      <td>4.8</td>\n",
       "    </tr>\n",
       "  </tbody>\n",
       "</table>\n",
       "</div>"
      ],
      "text/plain": [
       "                            Restaurant Name Has Online delivery  \\\n",
       "0                          Le Petit Souffle                  No   \n",
       "1                          Izakaya Kikufuji                  No   \n",
       "2                    Heat - Edsa Shangri-La                  No   \n",
       "3                                      Ooma                  No   \n",
       "4                               Sambo Kojin                  No   \n",
       "5                              Din Tai Fung                  No   \n",
       "6                                Buffet 101                  No   \n",
       "7                                   Vikings                  No   \n",
       "8  Spiral - Sofitel Philippine Plaza Manila                  No   \n",
       "9                                  Locavore                  No   \n",
       "\n",
       "   Aggregate rating  \n",
       "0               4.8  \n",
       "1               4.5  \n",
       "2               4.4  \n",
       "3               4.9  \n",
       "4               4.8  \n",
       "5               4.4  \n",
       "6               4.0  \n",
       "7               4.2  \n",
       "8               4.9  \n",
       "9               4.8  "
      ]
     },
     "execution_count": 10,
     "metadata": {},
     "output_type": "execute_result"
    }
   ],
   "source": [
    "# Select required columns\n",
    "selected_columns = df[['Restaurant Name', 'Has Online delivery', 'Aggregate rating']]\n",
    "\n",
    "# Display the first few rows\n",
    "selected_columns.head(10)\n"
   ]
  },
  {
   "cell_type": "code",
   "execution_count": 11,
   "metadata": {
    "id": "yVlSgGrObPpS"
   },
   "outputs": [
    {
     "name": "stderr",
     "output_type": "stream",
     "text": [
      "C:\\Users\\Lenovo\\AppData\\Local\\Temp\\ipykernel_10180\\71632770.py:10: SettingWithCopyWarning: \n",
      "A value is trying to be set on a copy of a slice from a DataFrame.\n",
      "Try using .loc[row_indexer,col_indexer] = value instead\n",
      "\n",
      "See the caveats in the documentation: https://pandas.pydata.org/pandas-docs/stable/user_guide/indexing.html#returning-a-view-versus-a-copy\n",
      "  selected_columns['Has Online delivery'] = selected_columns['Has Online delivery'].apply(replace_numeric_with_no)\n"
     ]
    }
   ],
   "source": [
    "# Replace numeric values (int or float) with \"No\"\n",
    "# Define a normal function\n",
    "def replace_numeric_with_no(x):\n",
    "    if isinstance(x, (int, float)):\n",
    "        return \"No\"\n",
    "    else:\n",
    "        return x\n",
    "\n",
    "# Apply the function to the column\n",
    "selected_columns['Has Online delivery'] = selected_columns['Has Online delivery'].apply(replace_numeric_with_no)\n"
   ]
  },
  {
   "cell_type": "code",
   "execution_count": 12,
   "metadata": {
    "id": "2LQPIAAXaeZO"
   },
   "outputs": [
    {
     "name": "stdout",
     "output_type": "stream",
     "text": [
      "Has Online delivery\n",
      "No     7100\n",
      "Yes    2451\n",
      "Name: count, dtype: int64\n"
     ]
    },
    {
     "data": {
      "text/plain": [
       "Text(0, 0.5, 'Has Online Delivery')"
      ]
     },
     "execution_count": 12,
     "metadata": {},
     "output_type": "execute_result"
    },
    {
     "data": {
      "image/png": "[encoded data removed]",
      "text/plain": [
       "<Figure size 640x480 with 1 Axes>"
      ]
     },
     "metadata": {},
     "output_type": "display_data"
    }
   ],
   "source": [
    "#  Has Online delivery\n",
    "# Count the number of 'Yes' and 'No' in Online Delivery column\n",
    "delivery_counts = selected_columns['Has Online delivery'].value_counts()\n",
    "print(delivery_counts)\n",
    "\n",
    "selected_columns.groupby('Has Online delivery').size().plot(kind='barh', color=sns.palettes.mpl_palette('Dark2'))\n",
    "for index, value in enumerate(delivery_counts.values):\n",
    "    plt.text(value + 100, index, str(value))\n",
    "\n",
    "plt.title(\"Online Delivery Availability\")\n",
    "plt.xlabel(\"Number of Restaurants\")\n",
    "plt.ylabel(\"Has Online Delivery\")\n"
   ]
  },
  {
   "cell_type": "markdown",
   "metadata": {
    "id": "57RRk4nVh6jo"
   },
   "source": [
    "### 1. Determine the percentage of restaurants that offer online delivery"
   ]
  },
  {
   "cell_type": "code",
   "execution_count": 13,
   "metadata": {
    "id": "L5lYUCs3dTKx"
   },
   "outputs": [
    {
     "name": "stdout",
     "output_type": "stream",
     "text": [
      "Percentage of restaurants offering online delivery:(25.66%)\n",
      "Percentage of restaurants Dosent offering online delivery:(74.34%)\n"
     ]
    },
    {
     "data": {
      "image/png": "[encoded data removed]",
      "text/plain": [
       "<Figure size 640x480 with 1 Axes>"
      ]
     },
     "metadata": {},
     "output_type": "display_data"
    }
   ],
   "source": [
    "# Total number of restaurants\n",
    "total = selected_columns.shape[0]\n",
    "\n",
    "# Count of Yes and No\n",
    "yes_count = (selected_columns['Has Online delivery'] == 'Yes').sum()\n",
    "no_count = (selected_columns['Has Online delivery'] == 'No').sum()\n",
    "\n",
    "# Calculate percentages\n",
    "yes_percentage = (yes_count / total) * 100\n",
    "no_percentage = (no_count / total) * 100\n",
    "\n",
    "# Print results\n",
    "print(f\"Percentage of restaurants offering online delivery:({yes_percentage:.2f}%)\")\n",
    "print(f\"Percentage of restaurants Dosent offering online delivery:({no_percentage:.2f}%)\")\n",
    "\n",
    "plt.pie([yes_count, no_count], labels=['Yes', 'No'], autopct='%1.1f%%')\n",
    "plt.title('Online Delivery Availability')\n",
    "plt.show()"
   ]
  },
  {
   "cell_type": "markdown",
   "metadata": {
    "id": "Hy3Ft9Z2oqA-"
   },
   "source": [
    " ### 2. Compare the average ratings of restaurants with and without online delivery"
   ]
  },
  {
   "cell_type": "code",
   "execution_count": null,
   "metadata": {
    "id": "PXMPJ-PzlYnm"
   },
   "outputs": [],
   "source": [
    "# Group by Online Delivery and calculate mean rating\n",
    "avg_ratings = selected_columns.groupby('Has Online delivery')['Aggregate rating'].mean()\n",
    "\n",
    "print(\"Average Ratings:\")\n",
    "print(avg_ratings)\n",
    "\n",
    "avg_ratings.plot(kind='bar', color=['salmon', 'skyblue'])\n",
    "plt.title(\"Average Ratings: With vs Without Online Delivery\")\n",
    "plt.ylabel(\"Average Rating\")\n",
    "plt.xlabel(\"Online Delivery\")\n",
    "plt.ylim(0, 5)\n",
    "plt.grid(axis='y', linestyle='--', alpha=0.5)\n",
    "plt.show()"
   ]
  },
  {
   "cell_type": "markdown",
   "metadata": {
    "id": "42kEvtmnq8QY"
   },
   "source": [
    "###  Findings:\n",
    "\n",
    "####  Online Delivery Availability:\n",
    "- **Yes**: 25.66% of restaurants  \n",
    "- **No**: 74.34% of restaurants  \n",
    "\n",
    "####  Average Ratings:\n",
    "- **Restaurants with online delivery**: 3.25  \n",
    "- **Restaurants without online delivery**: 2.47  \n",
    "\n",
    "###  Conclusion:\n",
    "\n",
    "- A large majority (**74.34%**) of restaurants **do not offer** online delivery.\n",
    "- However, restaurants that **offer online delivery** tend to have **higher average ratings**.\n",
    "- This suggests that online delivery may contribute to **higher customer satisfaction** or be more common among **better-rated restaurants**.\n",
    "-- -\n"
   ]
  },
  {
   "cell_type": "code",
   "execution_count": null,
   "metadata": {},
   "outputs": [],
   "source": []
  }
 ],
 "metadata": {
  "colab": {
   "provenance": []
  },
  "kernelspec": {
   "display_name": "Python [conda env:base] *",
   "language": "python",
   "name": "conda-base-py"
  },
  "language_info": {
   "codemirror_mode": {
    "name": "ipython",
    "version": 3
   },
   "file_extension": ".py",
   "mimetype": "text/x-python",
   "name": "python",
   "nbconvert_exporter": "python",
   "pygments_lexer": "ipython3",
   "version": "3.12.7"
  }
 },
 "nbformat": 4,
 "nbformat_minor": 4
}
